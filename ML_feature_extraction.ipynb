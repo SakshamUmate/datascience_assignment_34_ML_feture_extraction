{
 "cells": [
  {
   "cell_type": "markdown",
   "metadata": {},
   "source": [
    "### Q1. What is Min-Max scaling, and how is it used in data preprocessing? Provide an example to illustrate its application."
   ]
  },
  {
   "cell_type": "markdown",
   "metadata": {},
   "source": [
    "## Min-Max Scaling\n",
    "\n",
    "Min-Max scaling, also known as Min-Max normalization, is a data preprocessing technique used to rescale the values of features to a specific range, typically \\([0, 1]\\). This is particularly useful in preparing data for machine learning algorithms that are sensitive to the scale of input data, such as those based on distance metrics (e.g., k-nearest neighbors, support vector machines).\n",
    "\n",
    "### How It Works\n",
    "\n",
    "The Min-Max scaling formula is as follows:\n",
    "\n",
    "$  x' = \\frac{x - \\min(x)}{\\max(x) - \\min(x)}  $\n",
    "\n",
    "where:\n",
    "- \\( x \\) is the original value.\n",
    "- $ \\min(x) $ is the minimum value in the feature.\n",
    "- $ \\max(x) $ is the maximum value in the feature.\n",
    "- $ x' $ is the scaled value.\n",
    "\n",
    "This formula scales each feature to the range \\([0, 1]\\). However, the range can be adjusted to any desired range \\([a, b]\\) using the following formula:\n",
    "\n",
    "$  x' = a + \\frac{(x - \\min(x)) \\times (b - a)}{\\max(x) - \\min(x)}  $\n",
    "\n",
    "### Advantages\n",
    "\n",
    "- **Uniform Scale**: Rescales features to a uniform range, ensuring that all features contribute equally to the model.\n",
    "- **Improved Convergence**: Helps algorithms converge faster by providing a consistent scale.\n",
    "- **Compatibility**: Suitable for algorithms that require input data within a certain range.\n",
    "\n",
    "### Disadvantages\n",
    "\n",
    "- **Sensitive to Outliers**: Since Min-Max scaling depends on the minimum and maximum values, it can be affected by outliers.\n",
    "\n",
    "### Example\n",
    "\n",
    "Let's illustrate Min-Max scaling with an example in Python using `sklearn.preprocessing.MinMaxScaler`.\n",
    "\n",
    "```python\n",
    "import numpy as np\n",
    "import pandas as pd\n",
    "from sklearn.preprocessing import MinMaxScaler\n",
    "\n",
    "# Sample data\n",
    "data = {\n",
    "    'feature1': [10, 20, 30, 40, 50],\n",
    "    'feature2': [100, 200, 300, 400, 500]\n",
    "}\n",
    "\n",
    "df = pd.DataFrame(data)\n",
    "\n",
    "# Initialize MinMaxScaler\n",
    "scaler = MinMaxScaler()\n",
    "\n",
    "# Fit and transform the data\n",
    "scaled_data = scaler.fit_transform(df)\n",
    "\n",
    "# Create a DataFrame for the scaled data\n",
    "scaled_df = pd.DataFrame(scaled_data, columns=df.columns)\n",
    "\n",
    "print(\"Original Data:\\n\", df)\n",
    "print(\"\\nScaled Data:\\n\", scaled_df)\n"
   ]
  },
  {
   "cell_type": "code",
   "execution_count": 3,
   "metadata": {},
   "outputs": [
    {
     "ename": "TypeError",
     "evalue": "scatterplot() takes from 0 to 1 positional arguments but 2 were given",
     "output_type": "error",
     "traceback": [
      "\u001b[1;31m---------------------------------------------------------------------------\u001b[0m",
      "\u001b[1;31mTypeError\u001b[0m                                 Traceback (most recent call last)",
      "Cell \u001b[1;32mIn[3], line 6\u001b[0m\n\u001b[0;32m      3\u001b[0m \u001b[38;5;28;01mfrom\u001b[39;00m \u001b[38;5;21;01msklearn\u001b[39;00m\u001b[38;5;21;01m.\u001b[39;00m\u001b[38;5;21;01mpreprocessing\u001b[39;00m \u001b[38;5;28;01mimport\u001b[39;00m MinMaxScaler\n\u001b[0;32m      5\u001b[0m df\u001b[38;5;241m=\u001b[39msns\u001b[38;5;241m.\u001b[39mload_dataset(\u001b[38;5;124m\"\u001b[39m\u001b[38;5;124mtips\u001b[39m\u001b[38;5;124m\"\u001b[39m)\n\u001b[1;32m----> 6\u001b[0m \u001b[43msns\u001b[49m\u001b[38;5;241;43m.\u001b[39;49m\u001b[43mscatterplot\u001b[49m\u001b[43m(\u001b[49m\u001b[43mdf\u001b[49m\u001b[43m[\u001b[49m\u001b[38;5;124;43m'\u001b[39;49m\u001b[38;5;124;43mtip\u001b[39;49m\u001b[38;5;124;43m'\u001b[39;49m\u001b[43m]\u001b[49m\u001b[43m,\u001b[49m\u001b[43mdf\u001b[49m\u001b[43m[\u001b[49m\u001b[38;5;124;43m'\u001b[39;49m\u001b[38;5;124;43mtotal_bill\u001b[39;49m\u001b[38;5;124;43m'\u001b[39;49m\u001b[43m]\u001b[49m\u001b[43m)\u001b[49m\n\u001b[0;32m      7\u001b[0m scaler\u001b[38;5;241m=\u001b[39m MinMaxScaler()\n\u001b[0;32m      9\u001b[0m df1\u001b[38;5;241m=\u001b[39mpd\u001b[38;5;241m.\u001b[39mDataFrame(scaler\u001b[38;5;241m.\u001b[39mfit_transform(df[[\u001b[38;5;124m'\u001b[39m\u001b[38;5;124mtotal_bill\u001b[39m\u001b[38;5;124m'\u001b[39m,\u001b[38;5;124m'\u001b[39m\u001b[38;5;124mtip\u001b[39m\u001b[38;5;124m'\u001b[39m]]))\n",
      "\u001b[1;31mTypeError\u001b[0m: scatterplot() takes from 0 to 1 positional arguments but 2 were given"
     ]
    }
   ],
   "source": [
    "import seaborn as sns\n",
    "import pandas as pd \n",
    "from sklearn.preprocessing import MinMaxScaler\n",
    "\n",
    "df=sns.load_dataset(\"tips\")\n",
    "\n",
    "scaler= MinMaxScaler()\n",
    "\n",
    "df1=pd.DataFrame(scaler.fit_transform(df[['total_bill','tip']]))\n",
    "\n"
   ]
  },
  {
   "cell_type": "code",
   "execution_count": null,
   "metadata": {},
   "outputs": [],
   "source": []
  }
 ],
 "metadata": {
  "kernelspec": {
   "display_name": "Python 3 (ipykernel)",
   "language": "python",
   "name": "python3"
  },
  "language_info": {
   "codemirror_mode": {
    "name": "ipython",
    "version": 3
   },
   "file_extension": ".py",
   "mimetype": "text/x-python",
   "name": "python",
   "nbconvert_exporter": "python",
   "pygments_lexer": "ipython3",
   "version": "3.11.4"
  }
 },
 "nbformat": 4,
 "nbformat_minor": 4
}
